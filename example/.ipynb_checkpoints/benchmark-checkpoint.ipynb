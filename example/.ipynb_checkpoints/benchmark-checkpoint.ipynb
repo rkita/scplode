{
 "cells": [
  {
   "cell_type": "code",
   "execution_count": null,
   "id": "af0fe7e1-059b-41fe-b044-635fd16254b4",
   "metadata": {},
   "outputs": [],
   "source": [
    "%load_ext autoreload\n",
    "%autoreload 2"
   ]
  },
  {
   "cell_type": "code",
   "execution_count": null,
   "id": "5e097ff5-aea3-4a52-bb9c-78de36ef58b0",
   "metadata": {},
   "outputs": [],
   "source": [
    "#Benchmarks\n"
   ]
  },
  {
   "cell_type": "code",
   "execution_count": null,
   "id": "105a7614-63f2-49b7-85b5-fdbad0873c3f",
   "metadata": {},
   "outputs": [],
   "source": [
    "#Compare to: \n",
    "- adata file saved - uncompressed. \n"
   ]
  },
  {
   "cell_type": "code",
   "execution_count": null,
   "id": "3545f76c-2120-4dc3-8e80-1fb8d41a5716",
   "metadata": {},
   "outputs": [],
   "source": [
    "#Metric:\n",
    "#Compare it against: adata-backed\n",
    "# But also compare it to state model \n",
    "\n",
    "- Amount of memory it used. \n",
    "- Speed of access at random locations.\n",
    "- Speed of access at contiguous locations. \n",
    "- Vertical access. \n",
    "- Benchmark against h5py\n",
    "- Benchmark against CSR encoded data and raw data. \n",
    "    \n",
    "\n",
    "# How fast is state with it?\n",
    "\n",
    "    \n"
   ]
  }
 ],
 "metadata": {
  "kernelspec": {
   "display_name": "Python (Colab Mimic)",
   "language": "python",
   "name": "colab-mimic"
  },
  "language_info": {
   "codemirror_mode": {
    "name": "ipython",
    "version": 3
   },
   "file_extension": ".py",
   "mimetype": "text/x-python",
   "name": "python",
   "nbconvert_exporter": "python",
   "pygments_lexer": "ipython3",
   "version": "3.11.13"
  }
 },
 "nbformat": 4,
 "nbformat_minor": 5
}
