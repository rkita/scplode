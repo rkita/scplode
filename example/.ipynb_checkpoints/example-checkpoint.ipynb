{
 "cells": [
  {
   "cell_type": "code",
   "execution_count": 1,
   "id": "6bd1ab03-b810-436d-8cfc-fc6e2cf4db8e",
   "metadata": {},
   "outputs": [],
   "source": [
    "%load_ext autoreload\n",
    "%autoreload 2"
   ]
  },
  {
   "cell_type": "code",
   "execution_count": 2,
   "id": "d9927620-fbb7-466d-8532-96a01bfbdb73",
   "metadata": {},
   "outputs": [],
   "source": [
    "#!pip install scplode"
   ]
  },
  {
   "cell_type": "code",
   "execution_count": 3,
   "id": "8a4fcaa8-00c5-4dd5-ba8b-7f34e247a9f8",
   "metadata": {},
   "outputs": [],
   "source": [
    "#Download the example Repogle dataset\n"
   ]
  },
  {
   "cell_type": "code",
   "execution_count": 78,
   "id": "afdbd3c9-db7a-405c-b156-9071526b919f",
   "metadata": {},
   "outputs": [
    {
     "name": "stderr",
     "output_type": "stream",
     "text": [
      "[INFO] Loading index: obs\n",
      "[INFO] Loading index: var\n",
      "[INFO] Loading index: dat (implicitly)\n"
     ]
    }
   ],
   "source": [
    "import scplode as sp\n",
    "#Be warned!! scplode will \"scplode\" (explode) and create new files. \n",
    "#Make sure you have adequate disk space\n",
    "#By default the new indexed files will be in your directory. \n",
    "adata_path = \"/Volumes/T7/vcc_pp/data/raw/competition_support_set/hepg2.h5\"\n",
    "spadata = sp.read_h5ad(adata_path)"
   ]
  },
  {
   "cell_type": "code",
   "execution_count": 79,
   "id": "a2929741-ddf4-4f9a-b43d-7309d6f08e66",
   "metadata": {},
   "outputs": [],
   "source": [
    "#Load a comparison\n",
    "import anndata as ad\n",
    "adata = ad.read_h5ad(adata_path)"
   ]
  },
  {
   "cell_type": "code",
   "execution_count": 80,
   "id": "15215e7d-5ef5-4bd4-ad87-1805776151a4",
   "metadata": {},
   "outputs": [
    {
     "data": {
      "text/plain": [
       "View of AnnData object with n_obs × n_vars = 10 × 18080\n",
       "    obs: 'gem_group', 'gene', 'gene_id', 'transcript', 'gene_transcript', 'sgID_AB', 'mitopercent', 'UMI_count', 'z_gemgroup_UMI', 'batch_var', 'target_gene', 'cell_type'"
      ]
     },
     "execution_count": 80,
     "metadata": {},
     "output_type": "execute_result"
    }
   ],
   "source": [
    "#index by rows\n",
    "spadata[10:20]"
   ]
  },
  {
   "cell_type": "code",
   "execution_count": 61,
   "id": "198e2012-5d72-4c7f-8a7d-85d18b09225b",
   "metadata": {},
   "outputs": [
    {
     "data": {
      "text/plain": [
       "True"
      ]
     },
     "execution_count": 61,
     "metadata": {},
     "output_type": "execute_result"
    }
   ],
   "source": [
    "#Make sure the data is the same\n",
    "assert (spadata[10:20].X == adata[10:20].X).all()\n",
    "assert spadata[10:20].obs.equals(adata[10:20].obs)"
   ]
  },
  {
   "cell_type": "code",
   "execution_count": 81,
   "id": "9b4021e5-fe7a-4f31-a729-3b03c68d424d",
   "metadata": {},
   "outputs": [
    {
     "data": {
      "text/plain": [
       "View of AnnData object with n_obs × n_vars = 10 × 10\n",
       "    obs: 'gem_group', 'gene', 'gene_id', 'transcript', 'gene_transcript', 'sgID_AB', 'mitopercent', 'UMI_count', 'z_gemgroup_UMI', 'batch_var', 'target_gene', 'cell_type'"
      ]
     },
     "execution_count": 81,
     "metadata": {},
     "output_type": "execute_result"
    }
   ],
   "source": [
    "spadata[10:20, 10:20]"
   ]
  },
  {
   "cell_type": "code",
   "execution_count": 82,
   "id": "73c57052-d794-4252-a9df-2e19b6930b9d",
   "metadata": {},
   "outputs": [],
   "source": [
    "#Make sure the data is the same\n",
    "assert (spadata[10:20, 10:20].X == adata[10:20, 10:20].X).all()\n",
    "assert spadata[10:20, 10:20].var.equals(adata[10:20, 10:20].var)"
   ]
  },
  {
   "cell_type": "code",
   "execution_count": 83,
   "id": "f6c2216a-a039-465e-ac12-98a396030055",
   "metadata": {},
   "outputs": [
    {
     "data": {
      "text/plain": [
       "View of AnnData object with n_obs × n_vars = 10 × 18080\n",
       "    obs: 'gem_group', 'gene', 'gene_id', 'transcript', 'gene_transcript', 'sgID_AB', 'mitopercent', 'UMI_count', 'z_gemgroup_UMI', 'batch_var', 'target_gene', 'cell_type'"
      ]
     },
     "execution_count": 83,
     "metadata": {},
     "output_type": "execute_result"
    }
   ],
   "source": [
    "#Index by specific barcodes\n",
    "barcodes = spadata.obs.index[10:20]\n",
    "spadata[barcodes]\n"
   ]
  },
  {
   "cell_type": "code",
   "execution_count": 84,
   "id": "fbd139fb-c7c5-4194-a265-485a1a9fb28d",
   "metadata": {},
   "outputs": [],
   "source": [
    "#Make sure the data is the same\n",
    "assert (spadata[barcodes].X == adata[barcodes].X).all()"
   ]
  }
 ],
 "metadata": {
  "kernelspec": {
   "display_name": "Python (Colab Mimic)",
   "language": "python",
   "name": "colab-mimic"
  },
  "language_info": {
   "codemirror_mode": {
    "name": "ipython",
    "version": 3
   },
   "file_extension": ".py",
   "mimetype": "text/x-python",
   "name": "python",
   "nbconvert_exporter": "python",
   "pygments_lexer": "ipython3",
   "version": "3.11.13"
  }
 },
 "nbformat": 4,
 "nbformat_minor": 5
}
