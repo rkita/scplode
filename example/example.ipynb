{
 "cells": [
  {
   "cell_type": "code",
   "execution_count": 161,
   "id": "6bd1ab03-b810-436d-8cfc-fc6e2cf4db8e",
   "metadata": {},
   "outputs": [
    {
     "name": "stdout",
     "output_type": "stream",
     "text": [
      "The autoreload extension is already loaded. To reload it, use:\n",
      "  %reload_ext autoreload\n"
     ]
    }
   ],
   "source": [
    "%load_ext autoreload\n",
    "%autoreload 2\n"
   ]
  },
  {
   "cell_type": "code",
   "execution_count": 162,
   "id": "d9927620-fbb7-466d-8532-96a01bfbdb73",
   "metadata": {},
   "outputs": [],
   "source": [
    "#!pip install scplode"
   ]
  },
  {
   "cell_type": "code",
   "execution_count": 163,
   "id": "8a4fcaa8-00c5-4dd5-ba8b-7f34e247a9f8",
   "metadata": {},
   "outputs": [],
   "source": [
    "#Create example adata file for testing\n",
    "import numpy as np\n",
    "import pandas as pd\n",
    "import anndata as ad\n",
    "n_obs = 50\n",
    "n_vars = 50\n",
    "\n",
    "# Random expression matrix\n",
    "X = np.random.rand(n_obs, n_vars).astype(\"float32\")\n",
    "\n",
    "# Create obs and var dataframes\n",
    "obs = pd.DataFrame(\n",
    "    index=[f\"cell_{i}\" for i in range(n_obs)],\n",
    "    data={\"cell_type\": np.random.choice([\"A\", \"B\"], size=n_obs)}\n",
    ")\n",
    "var = pd.DataFrame(\n",
    "    index=[f\"gene_{i}\" for i in range(n_vars)],\n",
    "    data={\"gene_name\": [f\"gene_{i}\" for i in range(n_vars)]}\n",
    ")\n",
    "\n",
    "# Create AnnData\n",
    "adata = ad.AnnData(X=X, obs=obs, var=var)\n",
    "\n",
    "# Optionally write to file\n",
    "adata.write('test.h5')"
   ]
  },
  {
   "cell_type": "code",
   "execution_count": 164,
   "id": "afdbd3c9-db7a-405c-b156-9071526b919f",
   "metadata": {},
   "outputs": [
    {
     "name": "stderr",
     "output_type": "stream",
     "text": [
      "[INFO] Creating index\n",
      "[INFO] Creating index: reading adata file\n",
      "[INFO] Creating index: writing mmap dat file\n"
     ]
    },
    {
     "data": {
      "application/vnd.jupyter.widget-view+json": {
       "model_id": "052df7d6532441e7b9e7e141f4eda33f",
       "version_major": 2,
       "version_minor": 0
      },
      "text/plain": [
       "  0%|          | 0/1 [00:00<?, ?it/s]"
      ]
     },
     "metadata": {},
     "output_type": "display_data"
    },
    {
     "name": "stderr",
     "output_type": "stream",
     "text": [
      "[INFO] Creating index: packing obs\n",
      "[INFO] Creating index: packing var\n",
      "[INFO] Loading index: obs\n",
      "[INFO] Loading index: var\n",
      "[INFO] Loading index: dat (implicitly)\n"
     ]
    },
    {
     "data": {
      "text/plain": [
       "<scplode.scplode.Scplode at 0x120e288d0>"
      ]
     },
     "execution_count": 164,
     "metadata": {},
     "output_type": "execute_result"
    }
   ],
   "source": [
    "import scplode as sp\n",
    "#Be warned!! scplode will \"scplode\" (explode) and create new files. \n",
    "#Make sure you have adequate disk space\n",
    "#By default the new indexed files will be in your directory. \n",
    "adata_path = 'test.h5'\n",
    "spadata = sp.read_h5ad(adata_path)\n",
    "spadata"
   ]
  },
  {
   "cell_type": "code",
   "execution_count": 165,
   "id": "cc983a0d-22d7-40f1-aff1-5d918131acc9",
   "metadata": {},
   "outputs": [
    {
     "data": {
      "text/html": [
       "<div>\n",
       "<style scoped>\n",
       "    .dataframe tbody tr th:only-of-type {\n",
       "        vertical-align: middle;\n",
       "    }\n",
       "\n",
       "    .dataframe tbody tr th {\n",
       "        vertical-align: top;\n",
       "    }\n",
       "\n",
       "    .dataframe thead th {\n",
       "        text-align: right;\n",
       "    }\n",
       "</style>\n",
       "<table border=\"1\" class=\"dataframe\">\n",
       "  <thead>\n",
       "    <tr style=\"text-align: right;\">\n",
       "      <th></th>\n",
       "      <th>cell_type</th>\n",
       "    </tr>\n",
       "  </thead>\n",
       "  <tbody>\n",
       "    <tr>\n",
       "      <th>cell_0</th>\n",
       "      <td>B</td>\n",
       "    </tr>\n",
       "    <tr>\n",
       "      <th>cell_1</th>\n",
       "      <td>B</td>\n",
       "    </tr>\n",
       "    <tr>\n",
       "      <th>cell_2</th>\n",
       "      <td>B</td>\n",
       "    </tr>\n",
       "    <tr>\n",
       "      <th>cell_3</th>\n",
       "      <td>A</td>\n",
       "    </tr>\n",
       "    <tr>\n",
       "      <th>cell_4</th>\n",
       "      <td>A</td>\n",
       "    </tr>\n",
       "  </tbody>\n",
       "</table>\n",
       "</div>"
      ],
      "text/plain": [
       "       cell_type\n",
       "cell_0         B\n",
       "cell_1         B\n",
       "cell_2         B\n",
       "cell_3         A\n",
       "cell_4         A"
      ]
     },
     "execution_count": 165,
     "metadata": {},
     "output_type": "execute_result"
    }
   ],
   "source": [
    "#Examine obs and var\n",
    "spadata.obs.head()"
   ]
  },
  {
   "cell_type": "code",
   "execution_count": 166,
   "id": "45dd06f7-162a-4f7d-95bd-946ee8bd7681",
   "metadata": {},
   "outputs": [
    {
     "data": {
      "text/html": [
       "<div>\n",
       "<style scoped>\n",
       "    .dataframe tbody tr th:only-of-type {\n",
       "        vertical-align: middle;\n",
       "    }\n",
       "\n",
       "    .dataframe tbody tr th {\n",
       "        vertical-align: top;\n",
       "    }\n",
       "\n",
       "    .dataframe thead th {\n",
       "        text-align: right;\n",
       "    }\n",
       "</style>\n",
       "<table border=\"1\" class=\"dataframe\">\n",
       "  <thead>\n",
       "    <tr style=\"text-align: right;\">\n",
       "      <th></th>\n",
       "      <th>gene_name</th>\n",
       "    </tr>\n",
       "  </thead>\n",
       "  <tbody>\n",
       "    <tr>\n",
       "      <th>gene_0</th>\n",
       "      <td>gene_0</td>\n",
       "    </tr>\n",
       "    <tr>\n",
       "      <th>gene_1</th>\n",
       "      <td>gene_1</td>\n",
       "    </tr>\n",
       "    <tr>\n",
       "      <th>gene_2</th>\n",
       "      <td>gene_2</td>\n",
       "    </tr>\n",
       "    <tr>\n",
       "      <th>gene_3</th>\n",
       "      <td>gene_3</td>\n",
       "    </tr>\n",
       "    <tr>\n",
       "      <th>gene_4</th>\n",
       "      <td>gene_4</td>\n",
       "    </tr>\n",
       "  </tbody>\n",
       "</table>\n",
       "</div>"
      ],
      "text/plain": [
       "       gene_name\n",
       "gene_0    gene_0\n",
       "gene_1    gene_1\n",
       "gene_2    gene_2\n",
       "gene_3    gene_3\n",
       "gene_4    gene_4"
      ]
     },
     "execution_count": 166,
     "metadata": {},
     "output_type": "execute_result"
    }
   ],
   "source": [
    "spadata.var.head()"
   ]
  },
  {
   "cell_type": "code",
   "execution_count": 167,
   "id": "15215e7d-5ef5-4bd4-ad87-1805776151a4",
   "metadata": {},
   "outputs": [
    {
     "data": {
      "text/plain": [
       "View of AnnData object with n_obs × n_vars = 10 × 50\n",
       "    obs: 'cell_type'\n",
       "    var: 'gene_name'"
      ]
     },
     "execution_count": 167,
     "metadata": {},
     "output_type": "execute_result"
    }
   ],
   "source": [
    "#Example 1: index by rows\n",
    "spadata[10:20]"
   ]
  },
  {
   "cell_type": "code",
   "execution_count": 168,
   "id": "198e2012-5d72-4c7f-8a7d-85d18b09225b",
   "metadata": {},
   "outputs": [],
   "source": [
    "#Make sure the data is the same\n",
    "\n",
    "#Load a comparison using anndata\n",
    "import anndata as ad\n",
    "adata = ad.read_h5ad(adata_path)\n",
    "assert (spadata[10:20].X == adata[10:20].X).all()\n",
    "assert spadata[10:20].obs.equals(adata[10:20].obs)"
   ]
  },
  {
   "cell_type": "code",
   "execution_count": 169,
   "id": "9b4021e5-fe7a-4f31-a729-3b03c68d424d",
   "metadata": {},
   "outputs": [
    {
     "data": {
      "text/plain": [
       "View of AnnData object with n_obs × n_vars = 10 × 10\n",
       "    obs: 'cell_type'\n",
       "    var: 'gene_name'"
      ]
     },
     "execution_count": 169,
     "metadata": {},
     "output_type": "execute_result"
    }
   ],
   "source": [
    "#Example 2: index by rows and columns\n",
    "spadata[10:20, 10:20]"
   ]
  },
  {
   "cell_type": "code",
   "execution_count": 170,
   "id": "73c57052-d794-4252-a9df-2e19b6930b9d",
   "metadata": {},
   "outputs": [],
   "source": [
    "#Make sure the data is the same\n",
    "assert (spadata[10:20, 10:20].X == adata[10:20, 10:20].X).all()\n",
    "assert spadata[10:20, 10:20].var.equals(adata[10:20, 10:20].var)"
   ]
  },
  {
   "cell_type": "code",
   "execution_count": 171,
   "id": "f6c2216a-a039-465e-ac12-98a396030055",
   "metadata": {},
   "outputs": [
    {
     "data": {
      "text/plain": [
       "View of AnnData object with n_obs × n_vars = 10 × 50\n",
       "    obs: 'cell_type'\n",
       "    var: 'gene_name'"
      ]
     },
     "execution_count": 171,
     "metadata": {},
     "output_type": "execute_result"
    }
   ],
   "source": [
    "#Example 3: Index by specific barcodes\n",
    "barcodes = spadata.obs.index[10:20]\n",
    "spadata[barcodes]"
   ]
  },
  {
   "cell_type": "code",
   "execution_count": 172,
   "id": "fbd139fb-c7c5-4194-a265-485a1a9fb28d",
   "metadata": {},
   "outputs": [],
   "source": [
    "#Make sure the data is the same\n",
    "assert (spadata[barcodes].X == adata[barcodes].X).all()"
   ]
  },
  {
   "cell_type": "code",
   "execution_count": 173,
   "id": "ceaca593-a66b-47ff-b178-342dfa5e5803",
   "metadata": {},
   "outputs": [
    {
     "name": "stderr",
     "output_type": "stream",
     "text": [
      "[INFO] Deleted: test.obs\n",
      "[INFO] Deleted: test.var\n",
      "[INFO] Deleted: test.dat\n",
      "[INFO] Deleted: test.mtime\n"
     ]
    }
   ],
   "source": [
    "#Cleanup\n",
    "spadata.delete_index()\n",
    "from pathlib import Path\n",
    "Path(adata_path).unlink()"
   ]
  },
  {
   "cell_type": "code",
   "execution_count": null,
   "id": "e282e1c4-b088-48e5-8a24-8be47ff7746d",
   "metadata": {},
   "outputs": [],
   "source": []
  }
 ],
 "metadata": {
  "kernelspec": {
   "display_name": "Python (Colab Mimic)",
   "language": "python",
   "name": "colab-mimic"
  },
  "language_info": {
   "codemirror_mode": {
    "name": "ipython",
    "version": 3
   },
   "file_extension": ".py",
   "mimetype": "text/x-python",
   "name": "python",
   "nbconvert_exporter": "python",
   "pygments_lexer": "ipython3",
   "version": "3.11.13"
  }
 },
 "nbformat": 4,
 "nbformat_minor": 5
}
