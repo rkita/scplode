{
 "cells": [
  {
   "cell_type": "code",
   "execution_count": null,
   "id": "af0fe7e1-059b-41fe-b044-635fd16254b4",
   "metadata": {},
   "outputs": [
    {
     "name": "stdout",
     "output_type": "stream",
     "text": [
      "The autoreload extension is already loaded. To reload it, use:\n",
      "  %reload_ext autoreload\n"
     ]
    }
   ],
   "source": [
    "%load_ext autoreload\n",
    "%autoreload 2\n",
    "\n",
    "import scplode as sc\n",
    "import time\n",
    "import tracemalloc\n",
    "import numpy as np\n",
    "import random\n",
    "from pathlib import Path\n",
    "import anndata as ad\n",
    "from tqdm.auto import tqdm"
   ]
  },
  {
   "cell_type": "markdown",
   "id": "c3aa5b2c-dca9-4613-a69f-7d569cc00372",
   "metadata": {},
   "source": [
    "### Example Benchmarks\n",
    "\n",
    "Here we compare scplode with anndata backed in terms of speed and memory usage. \n",
    "Some rationale for the choices in comparison:\n",
    "- anndata backed was used because most of these single cell datasets are too big for loading everything to memory (time and memory cost). \n",
    "- a downstream processing step (taking the mean) was used to make sure we're actually \"pulling\" the data in a realistic way for data exploration.\n",
    "- One additional feature to note, CSR matrices accessed using anndata backed have limitations in terms of downstream processing (can't do .var directly on it). However scplode currently doesn't use csr, so all your numpy array functionality continues to exist. \n",
    "\n",
    "#### Notes\n",
    "1. You will need more packages than what is required to install scplode to test these benchmarking scripts. These packages were NOT included in the package requirements because they are not necessary for actually using scplode. \n"
   ]
  },
  {
   "cell_type": "code",
   "execution_count": null,
   "id": "8d277dc9-a63c-4881-aa96-8d6f21a3f52d",
   "metadata": {},
   "outputs": [],
   "source": [
    "#Download Competition Support Set\n",
    "\"https://storage.googleapis.com/vcc_data_prod/datasets/state/competition_support_set.zip\"\n",
    "\n",
    "#Set the downloaded path below. "
   ]
  },
  {
   "cell_type": "code",
   "execution_count": 78,
   "id": "6454298e-a852-4aff-b1f9-2b22148ec6d8",
   "metadata": {},
   "outputs": [],
   "source": [
    "#1st one is a CSR MATRIX\n",
    "h5ad_path = Path(\"/Volumes/T7/vcc_pp/data/raw/competition_support_set/competition_train.h5\") \n",
    "#2nd one is not sparse\n",
    "#h5ad_path = Path(\"/Volumes/T7/vcc_pp/data/raw/competition_support_set/k562_gwps.h5\")"
   ]
  },
  {
   "cell_type": "code",
   "execution_count": 79,
   "id": "9c410a91-9863-462f-8692-ab5fb87110eb",
   "metadata": {},
   "outputs": [
    {
     "name": "stderr",
     "output_type": "stream",
     "text": [
      "[INFO] Loading index: obs\n",
      "[INFO] Loading index: var\n",
      "[INFO] Loading index: dat (implicitly)\n"
     ]
    }
   ],
   "source": [
    "scadata= sc.read_h5ad(h5ad_path)"
   ]
  },
  {
   "cell_type": "code",
   "execution_count": 80,
   "id": "5ce1fd22-12b0-4ed4-af81-47b38cab4141",
   "metadata": {},
   "outputs": [],
   "source": [
    "adata_backed = ad.read_h5ad(h5ad_path, backed = 'r')"
   ]
  },
  {
   "cell_type": "code",
   "execution_count": 81,
   "id": "d9ffcf72-ab2d-4484-aaa7-b153869c07b7",
   "metadata": {},
   "outputs": [
    {
     "data": {
      "application/vnd.jupyter.widget-view+json": {
       "model_id": "766938b2b68b4a46be3f8aae7906b46a",
       "version_major": 2,
       "version_minor": 0
      },
      "text/plain": [
       "  0%|          | 0/5 [00:00<?, ?it/s]"
      ]
     },
     "metadata": {},
     "output_type": "display_data"
    },
    {
     "name": "stdout",
     "output_type": "stream",
     "text": [
      "peak memory: 999.19 MB\n",
      "CPU times: user 7.61 s, sys: 10.9 s, total: 18.5 s\n",
      "Wall time: 57.2 s\n"
     ]
    }
   ],
   "source": [
    "%%time \n",
    "\n",
    "random.seed(0)\n",
    "peaks = list()\n",
    "for repeat in tqdm(range(0,5)):\n",
    "    tracemalloc.start()\n",
    "    indices = random.sample(list(adata_backed.obs.index), 5000)\n",
    "    result = adata_backed[indices].X.mean(axis=0)\n",
    "    \n",
    "    #Assess peak memory\n",
    "    current, peak = tracemalloc.get_traced_memory()\n",
    "    tracemalloc.stop()\n",
    "    peak = peak / 1024**2  # MB\n",
    "    peaks.append(peak)\n",
    "print(f\"peak memory: {np.mean(peaks):.2f} MB\")"
   ]
  },
  {
   "cell_type": "code",
   "execution_count": 82,
   "id": "30e9ee40-651e-42d0-9333-e1db787b5933",
   "metadata": {},
   "outputs": [
    {
     "data": {
      "application/vnd.jupyter.widget-view+json": {
       "model_id": "1217fe0f362f4ebab423a13802eaed1e",
       "version_major": 2,
       "version_minor": 0
      },
      "text/plain": [
       "  0%|          | 0/5 [00:00<?, ?it/s]"
      ]
     },
     "metadata": {},
     "output_type": "display_data"
    },
    {
     "name": "stdout",
     "output_type": "stream",
     "text": [
      "peak memory: 346.70 MB\n",
      "CPU times: user 1.63 s, sys: 2.51 s, total: 4.14 s\n",
      "Wall time: 27.4 s\n"
     ]
    }
   ],
   "source": [
    "%%time \n",
    "\n",
    "random.seed(0)\n",
    "peaks = list()\n",
    "for repeat in tqdm(range(0,5)):\n",
    "    tracemalloc.start()\n",
    "    indices = random.sample(list(scadata.obs.index), 5000)\n",
    "    result = scadata.get(indices).mean(axis=0)\n",
    "    \n",
    "    #Assess peak memory\n",
    "    current, peak = tracemalloc.get_traced_memory()\n",
    "    tracemalloc.stop()\n",
    "    peak = peak / 1024**2  # MB\n",
    "    peaks.append(peak)\n",
    "print(f\"peak memory: {np.mean(peaks):.2f} MB\")"
   ]
  },
  {
   "cell_type": "code",
   "execution_count": 74,
   "id": "fdec43c4-d75e-4d28-833f-082c97268b9a",
   "metadata": {},
   "outputs": [
    {
     "data": {
      "application/vnd.jupyter.widget-view+json": {
       "model_id": "bfeb92109f89459dad40a3d79ebef261",
       "version_major": 2,
       "version_minor": 0
      },
      "text/plain": [
       "  0%|          | 0/5 [00:00<?, ?it/s]"
      ]
     },
     "metadata": {},
     "output_type": "display_data"
    },
    {
     "name": "stdout",
     "output_type": "stream",
     "text": [
      "peak memory: 690.06 MB\n",
      "CPU times: user 422 ms, sys: 2.18 s, total: 2.6 s\n",
      "Wall time: 2.59 s\n"
     ]
    }
   ],
   "source": [
    "%%time \n",
    "\n",
    "random.seed(0)\n",
    "peaks = list()\n",
    "for repeat in tqdm(range(0,5)):\n",
    "    tracemalloc.start()\n",
    "    index_low = random.randint(1, adata_backed.obs.shape[0]-10000)  \n",
    "    result = adata_backed[index_low: index_low+10000].X.mean(axis=0)\n",
    "    \n",
    "    #Assess peak memory\n",
    "    current, peak = tracemalloc.get_traced_memory()\n",
    "    tracemalloc.stop()\n",
    "    peak = peak / 1024**2  # MB\n",
    "    peaks.append(peak)\n",
    "print(f\"peak memory: {np.mean(peaks):.2f} MB\")"
   ]
  },
  {
   "cell_type": "code",
   "execution_count": 75,
   "id": "3f29ba0d-fc05-46c9-81bc-6043bfc000a7",
   "metadata": {},
   "outputs": [
    {
     "data": {
      "application/vnd.jupyter.widget-view+json": {
       "model_id": "4e878f96fc1f4ba8a8af4fa9198199e0",
       "version_major": 2,
       "version_minor": 0
      },
      "text/plain": [
       "  0%|          | 0/5 [00:00<?, ?it/s]"
      ]
     },
     "metadata": {},
     "output_type": "display_data"
    },
    {
     "name": "stdout",
     "output_type": "stream",
     "text": [
      "peak memory: 689.89 MB\n",
      "CPU times: user 1.31 s, sys: 1.15 s, total: 2.45 s\n",
      "Wall time: 2.45 s\n"
     ]
    }
   ],
   "source": [
    "%%time \n",
    "\n",
    "random.seed(0)\n",
    "peaks = list()\n",
    "for repeat in tqdm(range(0,5)):\n",
    "    tracemalloc.start()\n",
    "    index_low = random.randint(1, scadata.obs.shape[0]-10000)  \n",
    "    \n",
    "    result = scadata.get(range(index_low, index_low+10000)).mean(axis=0)\n",
    "    \n",
    "    #Assess peak memory\n",
    "    current, peak = tracemalloc.get_traced_memory()\n",
    "    tracemalloc.stop()\n",
    "    peak = peak / 1024**2  # MB\n",
    "    peaks.append(peak)\n",
    "print(f\"peak memory: {np.mean(peaks):.2f} MB\")"
   ]
  },
  {
   "cell_type": "markdown",
   "id": "bf7d5896-2285-4d3d-9b45-70c16f17207d",
   "metadata": {},
   "source": [
    "### Conclusion\n",
    "\n",
    "The speed and memory advantage of scplode differs depending on context. \n",
    "For random access, scplode has a ~2x speed advantage and 3x memory decrease.\n",
    "Not much difference seen with contiguous index access."
   ]
  }
 ],
 "metadata": {
  "kernelspec": {
   "display_name": "Colab312",
   "language": "python",
   "name": "myenv"
  },
  "language_info": {
   "codemirror_mode": {
    "name": "ipython",
    "version": 3
   },
   "file_extension": ".py",
   "mimetype": "text/x-python",
   "name": "python",
   "nbconvert_exporter": "python",
   "pygments_lexer": "ipython3",
   "version": "3.12.11"
  }
 },
 "nbformat": 4,
 "nbformat_minor": 5
}
