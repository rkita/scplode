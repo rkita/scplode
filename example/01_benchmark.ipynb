{
 "cells": [
  {
   "cell_type": "code",
   "execution_count": 1,
   "id": "af0fe7e1-059b-41fe-b044-635fd16254b4",
   "metadata": {},
   "outputs": [],
   "source": [
    "%load_ext autoreload\n",
    "%autoreload 2"
   ]
  },
  {
   "cell_type": "code",
   "execution_count": 5,
   "id": "5e097ff5-aea3-4a52-bb9c-78de36ef58b0",
   "metadata": {},
   "outputs": [
    {
     "ename": "SyntaxError",
     "evalue": "invalid syntax (111194518.py, line 8)",
     "output_type": "error",
     "traceback": [
      "  \u001b[36mCell\u001b[39m\u001b[36m \u001b[39m\u001b[32mIn[5]\u001b[39m\u001b[32m, line 8\u001b[39m\n\u001b[31m    \u001b[39m\u001b[31m- Amount of memory it used.\u001b[39m\n             ^\n\u001b[31mSyntaxError\u001b[39m\u001b[31m:\u001b[39m invalid syntax\n"
     ]
    }
   ],
   "source": [
    "#Benchmark criteria\n",
    "\n",
    "# You may need more packages to test this benchmarking scripts. \n",
    "# These packages were NOT included in the package requirements because they are not necessary for actually using scplode. \n",
    "\n",
    "\n",
    "\n",
    "- Amount of memory it used. \n",
    "- Speed of access at random locations.\n",
    "- Speed of access at contiguous locations. \n",
    "- Vertical access. \n",
    "- Benchmark against h5py\n",
    "- Benchmark against CSR encoded data and raw data. \n",
    "    \n",
    "\n",
    "#Keeping it simple:\n",
    "    - Rarely do we need to write, and if so, best to not overwrite the raw anyways. \n",
    "    - So skipping that. \n",
    "\n",
    "        \n",
    "# How fast is state with it?"
   ]
  },
  {
   "cell_type": "code",
   "execution_count": 10,
   "id": "6454298e-a852-4aff-b1f9-2b22148ec6d8",
   "metadata": {},
   "outputs": [],
   "source": [
    "#Imports\n",
    "import time\n",
    "import psutil\n",
    "import os\n",
    "import gc\n",
    "import numpy as np\n",
    "import pandas as pd\n",
    "import anndata as ad\n",
    "import matplotlib.pyplot as plt\n",
    "import seaborn as sns\n",
    "from pathlib import Path\n",
    "from memory_profiler import memory_usage\n",
    "import tracemalloc\n",
    "\n",
    "# Import your Scplode module\n",
    "from scplode import read_h5ad, Scplode\n",
    "\n",
    "# Set up plotting style\n",
    "sns.set_style(\"whitegrid\")\n",
    "plt.rcParams['figure.figsize'] = (12, 6)"
   ]
  },
  {
   "cell_type": "code",
   "execution_count": 7,
   "id": "105a7614-63f2-49b7-85b5-fdbad0873c3f",
   "metadata": {},
   "outputs": [],
   "source": [
    "#Helper functions for benchmarking\n",
    "\n",
    "def get_process_memory():\n",
    "    \"\"\"Get current process memory usage in MB\"\"\"\n",
    "    process = psutil.Process(os.getpid())\n",
    "    return process.memory_info().rss / 1024 / 1024\n",
    "\n",
    "def time_function(func, *args, **kwargs):\n",
    "    \"\"\"Time a function execution\"\"\"\n",
    "    start = time.perf_counter()\n",
    "    result = func(*args, **kwargs)\n",
    "    end = time.perf_counter()\n",
    "    return end - start, result\n",
    "\n",
    "def measure_memory_peak(func, *args, **kwargs):\n",
    "    \"\"\"Measure peak memory usage of a function\"\"\"\n",
    "    mem_usage = memory_usage((func, args, kwargs), interval=0.1, timeout=None)\n",
    "    return max(mem_usage) - min(mem_usage)\n",
    "\n",
    "class BenchmarkResults:\n",
    "    \"\"\"Store and visualize benchmark results\"\"\"\n",
    "    def __init__(self):\n",
    "        self.results = []\n",
    "    \n",
    "    def add_result(self, method, operation, time_sec, memory_mb, n_cells=None, n_genes=None):\n",
    "        self.results.append({\n",
    "            'method': method,\n",
    "            'operation': operation,\n",
    "            'time_sec': time_sec,\n",
    "            'memory_mb': memory_mb,\n",
    "            'n_cells': n_cells,\n",
    "            'n_genes': n_genes\n",
    "        })\n",
    "    \n",
    "    def to_dataframe(self):\n",
    "        return pd.DataFrame(self.results)\n",
    "    \n",
    "    def plot_results(self):\n",
    "        df = self.to_dataframe()\n",
    "        \n",
    "        fig, axes = plt.subplots(1, 2, figsize=(14, 6))\n",
    "        \n",
    "        # Time comparison\n",
    "        pivot_time = df.pivot(index='operation', columns='method', values='time_sec')\n",
    "        pivot_time.plot(kind='bar', ax=axes[0])\n",
    "        axes[0].set_title('Access Time Comparison')\n",
    "        axes[0].set_ylabel('Time (seconds)')\n",
    "        axes[0].set_xlabel('Operation')\n",
    "        axes[0].legend(title='Method')\n",
    "        axes[0].set_yscale('log')\n",
    "        \n",
    "        # Memory comparison\n",
    "        pivot_memory = df.pivot(index='operation', columns='method', values='memory_mb')\n",
    "        pivot_memory.plot(kind='bar', ax=axes[1])\n",
    "        axes[1].set_title('Memory Usage Comparison')\n",
    "        axes[1].set_ylabel('Memory (MB)')\n",
    "        axes[1].set_xlabel('Operation')\n",
    "        axes[1].legend(title='Method')\n",
    "        \n",
    "        plt.tight_layout()\n",
    "        return fig\n"
   ]
  },
  {
   "cell_type": "code",
   "execution_count": 30,
   "id": "22f772d0-7ab3-4024-90d9-e046d077812a",
   "metadata": {},
   "outputs": [],
   "source": [
    "## Path to your h5ad file\n",
    "h5ad_path = Path(\"/Volumes/T7/vcc_pp/data/raw/competition_support_set/competition_train.h5\")  # Update with your actual file path\n"
   ]
  },
  {
   "cell_type": "code",
   "execution_count": 31,
   "id": "3545f76c-2120-4dc3-8e80-1fb8d41a5716",
   "metadata": {},
   "outputs": [
    {
     "name": "stdout",
     "output_type": "stream",
     "text": [
      "H5AD file size: 14764.88 MB\n",
      "\n",
      "--- Loading with AnnData (in-memory) ---\n",
      "Time: 30.177s, Memory: 585.91 MB\n",
      "\n",
      "--- Loading with AnnData (backed) ---\n"
     ]
    },
    {
     "name": "stderr",
     "output_type": "stream",
     "text": [
      "[WARNING] File not found, skipping: /Volumes/T7/vcc_pp/data/raw/competition_support_set/competition_train.obs\n",
      "[WARNING] File not found, skipping: /Volumes/T7/vcc_pp/data/raw/competition_support_set/competition_train.var\n",
      "[WARNING] File not found, skipping: /Volumes/T7/vcc_pp/data/raw/competition_support_set/competition_train.dat\n",
      "[WARNING] File not found, skipping: /Volumes/T7/vcc_pp/data/raw/competition_support_set/competition_train.mtime\n",
      "[INFO] Creating index\n",
      "[INFO] Creating index: reading adata file\n"
     ]
    },
    {
     "name": "stdout",
     "output_type": "stream",
     "text": [
      "Time: 0.133s, Memory: 32.89 MB\n",
      "\n",
      "--- Loading with Scplode (creating index) ---\n"
     ]
    },
    {
     "name": "stderr",
     "output_type": "stream",
     "text": [
      "[INFO] Creating index: writing mmap dat file\n"
     ]
    },
    {
     "data": {
      "application/vnd.jupyter.widget-view+json": {
       "model_id": "8b795ccdb52e4e9bb7c6cec36ddb9262",
       "version_major": 2,
       "version_minor": 0
      },
      "text/plain": [
       "  0%|          | 0/222 [00:00<?, ?it/s]"
      ]
     },
     "metadata": {},
     "output_type": "display_data"
    },
    {
     "name": "stderr",
     "output_type": "stream",
     "text": [
      "[INFO] Creating index: packing obs\n",
      "[INFO] Creating index: packing var\n",
      "[INFO] Loading index: obs\n",
      "[INFO] Loading index: var\n",
      "[INFO] Loading index: dat (implicitly)\n",
      "[INFO] Loading index: obs\n",
      "[INFO] Loading index: var\n",
      "[INFO] Loading index: dat (implicitly)\n"
     ]
    },
    {
     "name": "stdout",
     "output_type": "stream",
     "text": [
      "Time: 91.004s, Memory: 403.40 MB\n",
      "\n",
      "--- Loading with Scplode (using existing index) ---\n",
      "Time: 0.035s, Memory: 9.54 MB\n",
      "\n",
      "Dataset shape: 221273 cells x 18080 genes\n"
     ]
    }
   ],
   "source": [
    "\n",
    "benchmark = BenchmarkResults()\n",
    "\n",
    "# Get file info\n",
    "file_size_mb = h5ad_path.stat().st_size / 1024 / 1024\n",
    "print(f\"H5AD file size: {file_size_mb:.2f} MB\")\n",
    "\n",
    "# Test 1: Load with standard AnnData (in-memory)\n",
    "print(\"\\n--- Loading with AnnData (in-memory) ---\")\n",
    "gc.collect()\n",
    "initial_mem = get_process_memory()\n",
    "time_taken, adata_mem = time_function(ad.read_h5ad, h5ad_path)\n",
    "memory_used = get_process_memory() - initial_mem\n",
    "print(f\"Time: {time_taken:.3f}s, Memory: {memory_used:.2f} MB\")\n",
    "benchmark.add_result('AnnData (memory)', 'initial_load', time_taken, memory_used)\n",
    "\n",
    "# Test 2: Load with AnnData (backed mode)\n",
    "print(\"\\n--- Loading with AnnData (backed) ---\")\n",
    "del adata_mem\n",
    "gc.collect()\n",
    "initial_mem = get_process_memory()\n",
    "time_taken, adata_backed = time_function(ad.read_h5ad, h5ad_path, backed='r')\n",
    "memory_used = get_process_memory() - initial_mem\n",
    "print(f\"Time: {time_taken:.3f}s, Memory: {memory_used:.2f} MB\")\n",
    "benchmark.add_result('AnnData (backed)', 'initial_load', time_taken, memory_used)\n",
    "\n",
    "# Test 3: Load with Scplode (first time - creates index)\n",
    "print(\"\\n--- Loading with Scplode (creating index) ---\")\n",
    "# Clean up any existing index files\n",
    "scplode_temp = Scplode(h5ad_path)\n",
    "scplode_temp.delete_index()\n",
    "del scplode_temp\n",
    "gc.collect()\n",
    "\n",
    "initial_mem = get_process_memory()\n",
    "time_taken, scdata = time_function(read_h5ad, h5ad_path)\n",
    "memory_used = get_process_memory() - initial_mem\n",
    "print(f\"Time: {time_taken:.3f}s, Memory: {memory_used:.2f} MB\")\n",
    "benchmark.add_result('Scplode (first)', 'initial_load', time_taken, memory_used)\n",
    "\n",
    "# Test 4: Load with Scplode (subsequent times - uses index)\n",
    "print(\"\\n--- Loading with Scplode (using existing index) ---\")\n",
    "del scdata\n",
    "gc.collect()\n",
    "initial_mem = get_process_memory()\n",
    "time_taken, scdata = time_function(read_h5ad, h5ad_path)\n",
    "memory_used = get_process_memory() - initial_mem\n",
    "print(f\"Time: {time_taken:.3f}s, Memory: {memory_used:.2f} MB\")\n",
    "benchmark.add_result('Scplode (cached)', 'initial_load', time_taken, memory_used)\n",
    "\n",
    "# Keep one instance of each for further testing\n",
    "adata_mem = ad.read_h5ad(h5ad_path)\n",
    "n_cells, n_genes = adata_mem.shape\n",
    "print(f\"\\nDataset shape: {n_cells} cells x {n_genes} genes\")\n",
    "    \n"
   ]
  },
  {
   "cell_type": "code",
   "execution_count": 32,
   "id": "a083ba34-7285-41f7-b1fd-d0245c736939",
   "metadata": {},
   "outputs": [
    {
     "name": "stdout",
     "output_type": "stream",
     "text": [
      "\n",
      "=== Random Cell Access Benchmark ===\n",
      "\n",
      "--- Accessing 10 random cells ---\n",
      "AnnData (backed): 0.0584s, -46.04 MB\n",
      "Scplode: 0.0670s, -5.48 MB\n",
      "\n",
      "--- Accessing 100 random cells ---\n",
      "AnnData (backed): 0.2975s, 10.69 MB\n",
      "Scplode: 0.1751s, 6.36 MB\n",
      "\n",
      "--- Accessing 1000 random cells ---\n",
      "AnnData (backed): 2.8688s, -519.51 MB\n",
      "Scplode: 2.3473s, -107.51 MB\n",
      "\n",
      "--- Accessing 5000 random cells ---\n",
      "AnnData (backed): 14.3035s, -81.88 MB\n",
      "Scplode: 11.5378s, -100.04 MB\n"
     ]
    }
   ],
   "source": [
    "# Generate random indices for testing\n",
    "np.random.seed(42)\n",
    "test_sizes = [10, 100, 1000, 5000]\n",
    "cell_indices = {\n",
    "    size: np.random.choice(adata_backed.obs.index, size, replace=False)  # Changed from adata_mem\n",
    "    for size in test_sizes\n",
    "}\n",
    "\n",
    "print(\"\\n=== Random Cell Access Benchmark ===\")\n",
    "for size in test_sizes:\n",
    "    indices = cell_indices[size]\n",
    "    print(f\"\\n--- Accessing {size} random cells ---\")\n",
    "    \n",
    "    # AnnData backed\n",
    "    gc.collect()\n",
    "    initial_mem = get_process_memory()\n",
    "    time_taken, _ = time_function(lambda: adata_backed[indices].to_memory())  # Fixed syntax\n",
    "    memory_used = get_process_memory() - initial_mem\n",
    "    print(f\"AnnData (backed): {time_taken:.4f}s, {memory_used:.2f} MB\")\n",
    "    benchmark.add_result('AnnData (backed)', f'access_{size}_cells', time_taken, memory_used)\n",
    "    \n",
    "    # Scplode\n",
    "    gc.collect()\n",
    "    initial_mem = get_process_memory()\n",
    "    time_taken, _ = time_function(scdata.get_adata, indices)  # Fixed syntax\n",
    "    memory_used = get_process_memory() - initial_mem\n",
    "    print(f\"Scplode: {time_taken:.4f}s, {memory_used:.2f} MB\")\n",
    "    benchmark.add_result('Scplode', f'access_{size}_cells', time_taken, memory_used)"
   ]
  },
  {
   "cell_type": "code",
   "execution_count": 34,
   "id": "73df9ec9-ad2a-4e84-b69c-5f78c1c815c8",
   "metadata": {},
   "outputs": [
    {
     "name": "stdout",
     "output_type": "stream",
     "text": [
      "\n",
      "=== Random Cell Mean Benchmark ===\n",
      "\n",
      "--- Accessing 10 random cells ---\n",
      "AnnData (backed): 0.0356s, 7.20 MB\n",
      "Scplode (chunked): 0.0096s, 0.18 MB\n",
      "\n",
      "--- Accessing 100 random cells ---\n",
      "AnnData (backed): 0.2007s, 19.13 MB\n",
      "Scplode (chunked): 0.1189s, 3.55 MB\n",
      "\n",
      "--- Accessing 1000 random cells ---\n",
      "AnnData (backed): 1.8573s, 103.60 MB\n",
      "Scplode (chunked): 0.6243s, 21.46 MB\n",
      "\n",
      "--- Accessing 5000 random cells ---\n",
      "AnnData (backed): 21.2922s, 268.01 MB\n",
      "Scplode (chunked): 4.7727s, -9.14 MB\n"
     ]
    }
   ],
   "source": [
    "import time\n",
    "import gc\n",
    "import psutil\n",
    "import numpy as np\n",
    "\n",
    "process = psutil.Process()\n",
    "\n",
    "def get_rss_mb():\n",
    "    \"\"\"Return current RSS memory in MB.\"\"\"\n",
    "    return process.memory_info().rss / 1024**2\n",
    "\n",
    "def time_function(func, *args, repeat=3):\n",
    "    \"\"\"Time a function and return average time and memory.\"\"\"\n",
    "    times = []\n",
    "    mems = []\n",
    "    for _ in range(repeat):\n",
    "        gc.collect()\n",
    "        start_mem = get_rss_mb()\n",
    "        start_time = time.time()\n",
    "        result = func(*args)\n",
    "        elapsed = time.time() - start_time\n",
    "        mem_diff = get_rss_mb() - start_mem\n",
    "        times.append(elapsed)\n",
    "        mems.append(mem_diff)\n",
    "    return np.mean(times), np.mean(mems), result\n",
    "\n",
    "def memmap_mean(memmap_path, row_indices, n_vars, chunk_size=1000):\n",
    "    \"\"\"Compute mean of selected rows in memmap without loading all at once.\"\"\"\n",
    "    data = np.memmap(memmap_path, dtype=\"float32\", mode=\"r\").reshape(-1, n_vars)\n",
    "    mean_accum = np.zeros(n_vars, dtype=np.float64)\n",
    "    count = 0\n",
    "    for start in range(0, len(row_indices), chunk_size):\n",
    "        chunk_idx = row_indices[start:start+chunk_size]\n",
    "        mean_accum += data[chunk_idx, :].sum(axis=0)\n",
    "        count += len(chunk_idx)\n",
    "    return mean_accum / count\n",
    "\n",
    "# Random indices for testing\n",
    "np.random.seed(42)\n",
    "test_sizes = [10, 100, 1000, 5000]\n",
    "cell_indices = {\n",
    "    size: np.random.choice(adata_backed.obs.index, size, replace=False)\n",
    "    for size in test_sizes\n",
    "}\n",
    "\n",
    "print(\"\\n=== Random Cell Mean Benchmark ===\")\n",
    "for size in test_sizes:\n",
    "    indices = cell_indices[size]\n",
    "    print(f\"\\n--- Accessing {size} random cells ---\")\n",
    "\n",
    "    # AnnData (backed) mean\n",
    "    def adata_mean(idx):\n",
    "        return adata_backed[idx].X.mean(axis=0)\n",
    "\n",
    "    time_taken, mem_used, _ = time_function(adata_mean, indices)\n",
    "    print(f\"AnnData (backed): {time_taken:.4f}s, {mem_used:.2f} MB\")\n",
    "\n",
    "    # Scplode mean (chunked)\n",
    "    row_positions = scdata.obs.index.get_indexer(indices)\n",
    "    def scplode_mean(idx_pos):\n",
    "        return memmap_mean(scdata.dat_path, idx_pos, scdata.n_vars)\n",
    "\n",
    "    time_taken, mem_used, _ = time_function(scplode_mean, row_positions)\n",
    "    print(f\"Scplode (chunked): {time_taken:.4f}s, {mem_used:.2f} MB\")"
   ]
  },
  {
   "cell_type": "code",
   "execution_count": 102,
   "id": "d9ffcf72-ab2d-4484-aaa7-b153869c07b7",
   "metadata": {},
   "outputs": [
    {
     "ename": "AttributeError",
     "evalue": "'csr_matrix' object has no attribute 'var'",
     "output_type": "error",
     "traceback": [
      "\u001b[31m---------------------------------------------------------------------------\u001b[39m",
      "\u001b[31mAttributeError\u001b[39m                            Traceback (most recent call last)",
      "\u001b[36mCell\u001b[39m\u001b[36m \u001b[39m\u001b[32mIn[102]\u001b[39m\u001b[32m, line 25\u001b[39m\n\u001b[32m     22\u001b[39m         results.append(result)\n\u001b[32m     23\u001b[39m     \u001b[38;5;28;01mreturn\u001b[39;00m np.mean(times), np.mean(peaks), results[\u001b[32m0\u001b[39m]\n\u001b[32m---> \u001b[39m\u001b[32m25\u001b[39m dt_adata, mem_adata, _ = \u001b[43mtime_and_memory\u001b[49m\u001b[43m(\u001b[49m\u001b[43m)\u001b[49m\n\u001b[32m     26\u001b[39m \u001b[38;5;28mprint\u001b[39m(\u001b[33mf\u001b[39m\u001b[33m\"\u001b[39m\u001b[33mAnnData (backed): \u001b[39m\u001b[38;5;132;01m{\u001b[39;00mdt_adata\u001b[38;5;132;01m:\u001b[39;00m\u001b[33m.4f\u001b[39m\u001b[38;5;132;01m}\u001b[39;00m\u001b[33ms, peak memory: \u001b[39m\u001b[38;5;132;01m{\u001b[39;00mmem_adata\u001b[38;5;132;01m:\u001b[39;00m\u001b[33m.2f\u001b[39m\u001b[38;5;132;01m}\u001b[39;00m\u001b[33m MB\u001b[39m\u001b[33m\"\u001b[39m)\n",
      "\u001b[36mCell\u001b[39m\u001b[36m \u001b[39m\u001b[32mIn[102]\u001b[39m\u001b[32m, line 16\u001b[39m, in \u001b[36mtime_and_memory\u001b[39m\u001b[34m(repeat)\u001b[39m\n\u001b[32m     14\u001b[39m indices = random.sample(\u001b[38;5;28mlist\u001b[39m(adata_backed.obs.index), \u001b[32m5000\u001b[39m)\n\u001b[32m     15\u001b[39m row_positions = scdata.obs.index.get_indexer(indices)\n\u001b[32m---> \u001b[39m\u001b[32m16\u001b[39m result = \u001b[43madata_backed\u001b[49m\u001b[43m[\u001b[49m\u001b[43mindices\u001b[49m\u001b[43m]\u001b[49m\u001b[43m.\u001b[49m\u001b[43mX\u001b[49m\u001b[43m.\u001b[49m\u001b[43mvar\u001b[49m(axis=\u001b[32m0\u001b[39m)\n\u001b[32m     17\u001b[39m elapsed = time.time() - start_time\n\u001b[32m     18\u001b[39m current, peak = tracemalloc.get_traced_memory()\n",
      "\u001b[31mAttributeError\u001b[39m: 'csr_matrix' object has no attribute 'var'"
     ]
    }
   ],
   "source": [
    "import time\n",
    "import tracemalloc\n",
    "import numpy as np\n",
    "\n",
    "\n",
    "# Utility to time function and measure peak memory\n",
    "def time_and_memory(repeat=3):\n",
    "    times = []\n",
    "    peaks = []\n",
    "    results = list()\n",
    "    for _ in range(repeat):\n",
    "        tracemalloc.start()\n",
    "        start_time = time.time()\n",
    "        indices = random.sample(list(adata_backed.obs.index), 5000)\n",
    "        row_positions = scdata.obs.index.get_indexer(indices)\n",
    "        result = adata_backed[indices].X.var(axis=0)\n",
    "        elapsed = time.time() - start_time\n",
    "        current, peak = tracemalloc.get_traced_memory()\n",
    "        tracemalloc.stop()\n",
    "        times.append(elapsed)\n",
    "        peaks.append(peak / 1024**2)  # MB\n",
    "        results.append(result)\n",
    "    return np.mean(times), np.mean(peaks), results[0]\n",
    "\n",
    "dt_adata, mem_adata, _ = time_and_memory()\n",
    "print(f\"AnnData (backed): {dt_adata:.4f}s, peak memory: {mem_adata:.2f} MB\")\n",
    "\n"
   ]
  },
  {
   "cell_type": "code",
   "execution_count": 103,
   "id": "30e9ee40-651e-42d0-9333-e1db787b5933",
   "metadata": {},
   "outputs": [
    {
     "name": "stdout",
     "output_type": "stream",
     "text": [
      "AnnData (backed): 12.1925s, peak memory: 1146.57 MB\n"
     ]
    }
   ],
   "source": [
    "import time\n",
    "import tracemalloc\n",
    "import numpy as np\n",
    "\n",
    "\n",
    "# Utility to time function and measure peak memory\n",
    "def time_and_memory(repeat=3):\n",
    "    times = []\n",
    "    peaks = []\n",
    "    results = list()\n",
    "    for _ in range(repeat):\n",
    "        tracemalloc.start()\n",
    "        start_time = time.time()\n",
    "        indices = random.sample(list(adata_backed.obs.index), 5000)\n",
    "        row_positions = scdata.obs.index.get_indexer(indices)\n",
    "        result = scdata[indices].X.var(axis=0)\n",
    "        elapsed = time.time() - start_time\n",
    "        current, peak = tracemalloc.get_traced_memory()\n",
    "        tracemalloc.stop()\n",
    "        times.append(elapsed)\n",
    "        peaks.append(peak / 1024**2)  # MB\n",
    "        results.append(result)\n",
    "    return np.mean(times), np.mean(peaks), results[0]\n",
    "\n",
    "dt_adata, mem_adata, _ = time_and_memory()\n",
    "print(f\"AnnData (backed): {dt_adata:.4f}s, peak memory: {mem_adata:.2f} MB\")\n"
   ]
  },
  {
   "cell_type": "code",
   "execution_count": 99,
   "id": "aa5a6317-4d11-4525-8413-ad2d25032617",
   "metadata": {},
   "outputs": [
    {
     "ename": "TypeError",
     "evalue": "'method' object is not subscriptable",
     "output_type": "error",
     "traceback": [
      "\u001b[31m---------------------------------------------------------------------------\u001b[39m",
      "\u001b[31mTypeError\u001b[39m                                 Traceback (most recent call last)",
      "\u001b[36mCell\u001b[39m\u001b[36m \u001b[39m\u001b[32mIn[99]\u001b[39m\u001b[32m, line 2\u001b[39m\n\u001b[32m      1\u001b[39m indices = random.sample(\u001b[38;5;28mlist\u001b[39m(adata_backed.obs.index), \u001b[32m5000\u001b[39m)\n\u001b[32m----> \u001b[39m\u001b[32m2\u001b[39m \u001b[43mscdata\u001b[49m\u001b[43m.\u001b[49m\u001b[43mobs\u001b[49m\u001b[43m.\u001b[49m\u001b[43mindex\u001b[49m\u001b[43m.\u001b[49m\u001b[43mget_indexer\u001b[49m\u001b[43m[\u001b[49m\u001b[43mindices\u001b[49m\u001b[43m]\u001b[49m\n",
      "\u001b[31mTypeError\u001b[39m: 'method' object is not subscriptable"
     ]
    }
   ],
   "source": [
    "indices = random.sample(list(adata_backed.obs.index), 5000)\n",
    "scdata.obs.index.get_indexer[indices]"
   ]
  }
 ],
 "metadata": {
  "kernelspec": {
   "display_name": "Python (Colab Mimic)",
   "language": "python",
   "name": "colab-mimic"
  },
  "language_info": {
   "codemirror_mode": {
    "name": "ipython",
    "version": 3
   },
   "file_extension": ".py",
   "mimetype": "text/x-python",
   "name": "python",
   "nbconvert_exporter": "python",
   "pygments_lexer": "ipython3",
   "version": "3.11.13"
  }
 },
 "nbformat": 4,
 "nbformat_minor": 5
}
