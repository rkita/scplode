{
 "cells": [
  {
   "cell_type": "code",
   "execution_count": 1,
   "id": "fd84de09-33f7-42e8-b134-0d4364a20383",
   "metadata": {},
   "outputs": [],
   "source": [
    "%load_ext autoreload\n",
    "%autoreload 2"
   ]
  },
  {
   "cell_type": "code",
   "execution_count": 1,
   "id": "56631ab3-d1ef-467c-93c6-751f7367051d",
   "metadata": {},
   "outputs": [],
   "source": [
    "#Install the forked cell-load\n",
    "#!pip install --upgrade git+https://github.com/rkita/cell-load.git@scplode-integration\n",
    "#%pip install -q git+https://github.com/rkita/cell-load.git@scplode-integration\n"
   ]
  },
  {
   "cell_type": "code",
   "execution_count": 45,
   "id": "e692d2e0-51a4-4406-a318-e72f270f3786",
   "metadata": {},
   "outputs": [],
   "source": [
    "#Download Competition Support Set"
   ]
  },
  {
   "cell_type": "code",
   "execution_count": 46,
   "id": "08540f04-c2f5-4206-b54c-2c15e4cd2861",
   "metadata": {},
   "outputs": [],
   "source": [
    "from cell_load.data_modules import PerturbationDataModule\n",
    "import toml"
   ]
  },
  {
   "cell_type": "code",
   "execution_count": 47,
   "id": "1cb4bfd9-5115-4f29-9e29-2ffbfac4672a",
   "metadata": {},
   "outputs": [],
   "source": [
    "#Make sure the version of PerturbationDataModule  is the right one\n",
    "import inspect\n",
    "sig = inspect.signature(PerturbationDataModule.__init__)\n",
    "assert 'use_scplode' in sig.parameters"
   ]
  },
  {
   "cell_type": "code",
   "execution_count": 48,
   "id": "dee12d9e-6ca3-4043-9122-4faea1fadaab",
   "metadata": {},
   "outputs": [],
   "source": [
    "config = {\n",
    "    \"datasets\": {\n",
    "        \"h1\": \"/Volumes/T7/vcc_pp/data/raw/competition_support_set/competition_train.h5\"\n",
    "    },\n",
    "    \"training\": {\n",
    "        \"h1\": \"train\"\n",
    "    },\n",
    "    \"zeroshot\": {},\n",
    "    \"fewshot\": {}\n",
    "}\n",
    "\n",
    "with open(\"config.toml\", \"w\") as f:\n",
    "    toml.dump(config, f)"
   ]
  },
  {
   "cell_type": "code",
   "execution_count": 49,
   "id": "cb634b6f-2437-4f2c-8cf4-9c276dfdeaaa",
   "metadata": {},
   "outputs": [
    {
     "name": "stderr",
     "output_type": "stream",
     "text": [
      "[INFO] Loading index: obs\n",
      "[INFO] Loading index: var\n",
      "[INFO] Loading index: dat (implicitly)\n"
     ]
    },
    {
     "data": {
      "text/plain": [
       "View of AnnData object with n_obs × n_vars = 10 × 18080\n",
       "    obs: 'target_gene', 'guide_id', 'batch', 'batch_var', 'cell_type'"
      ]
     },
     "execution_count": 49,
     "metadata": {},
     "output_type": "execute_result"
    }
   ],
   "source": [
    "#Prepare the data upfront\n",
    "import scplode as sp\n",
    "sdata = sp.read_h5ad(\"/Volumes/T7/vcc_pp/data/raw/competition_support_set/competition_train.h5\")\n",
    "sdata[0:10]"
   ]
  },
  {
   "cell_type": "code",
   "execution_count": 50,
   "id": "ebe66188-8748-4c37-8050-9e3d13ac425a",
   "metadata": {},
   "outputs": [
    {
     "name": "stdout",
     "output_type": "stream",
     "text": [
      "/Volumes/T7/vcc_pp/data/raw/competition_support_set/competition_train.h5\n"
     ]
    },
    {
     "name": "stderr",
     "output_type": "stream",
     "text": [
      "Processing h1:   0%|                                                                                         | 0/1 [00:00<?, ?it/s][INFO] Loading index: obs\n",
      "[INFO] Loading index: var\n",
      "[INFO] Loading index: dat (implicitly)\n",
      "Processing h1: 100%|█████████████████████████████████████████████████████████████████████████████████| 1/1 [00:00<00:00,  1.81it/s]\n"
     ]
    },
    {
     "name": "stdout",
     "output_type": "stream",
     "text": [
      "Processed competition_train: 221273 train, 0 val, 0 test\n",
      "peak memory: 139.50 MB\n",
      "CPU times: user 13.4 s, sys: 586 ms, total: 13.9 s\n",
      "Wall time: 34.8 s\n"
     ]
    }
   ],
   "source": [
    "%%time\n",
    "\n",
    "import tracemalloc\n",
    "\n",
    "tracemalloc.start()\n",
    "\n",
    "dm = PerturbationDataModule(\n",
    "    toml_config_path=\"config.toml\",\n",
    "    embed_key=None,\n",
    "    num_workers=4,\n",
    "    batch_col=\"batch\",\n",
    "    cell_sentence_len=16,\n",
    "    pert_col=\"target_gene\",\n",
    "    cell_type_key=\"cell_type\",\n",
    "    control_pert=\"non-targeting\",\n",
    "    use_scplode = True,\n",
    "    output_space = \"all\"\n",
    ")\n",
    "dm.setup()\n",
    "\n",
    "# # Get training data\n",
    "train_loader = dm.train_dataloader()\n",
    "\n",
    "for i, batch in enumerate(train_loader):\n",
    "    break  # Just test the first batch\n",
    "\n",
    "#Assess peak memory\n",
    "current, peak = tracemalloc.get_traced_memory()\n",
    "tracemalloc.stop()\n",
    "peak = peak / 1024**2  # MB\n",
    "print(f\"peak memory: {peak:.2f} MB\")"
   ]
  },
  {
   "cell_type": "code",
   "execution_count": 51,
   "id": "be37b08b-dc40-4cf4-b96b-8cb43b079822",
   "metadata": {},
   "outputs": [
    {
     "name": "stdout",
     "output_type": "stream",
     "text": [
      "/Volumes/T7/vcc_pp/data/raw/competition_support_set/competition_train.h5\n"
     ]
    },
    {
     "name": "stderr",
     "output_type": "stream",
     "text": [
      "Processing h1: 100%|█████████████████████████████████████████████████████████████████████████████████| 1/1 [00:00<00:00,  2.74it/s]\n"
     ]
    },
    {
     "name": "stdout",
     "output_type": "stream",
     "text": [
      "Processed competition_train: 221273 train, 0 val, 0 test\n",
      "peak memory: 114.58 MB\n",
      "CPU times: user 13 s, sys: 502 ms, total: 13.5 s\n",
      "Wall time: 57.3 s\n"
     ]
    }
   ],
   "source": [
    "%%time\n",
    "\n",
    "import tracemalloc\n",
    "\n",
    "tracemalloc.start()\n",
    "\n",
    "dm = PerturbationDataModule(\n",
    "    toml_config_path=\"config.toml\",\n",
    "    embed_key=None,\n",
    "    num_workers=4,\n",
    "    batch_col=\"batch\",\n",
    "    cell_sentence_len=16,\n",
    "    pert_col=\"target_gene\",\n",
    "    cell_type_key=\"cell_type\",\n",
    "    control_pert=\"non-targeting\",\n",
    "    use_scplode = False,\n",
    "    output_space = \"all\"\n",
    ")\n",
    "dm.setup()\n",
    "\n",
    "# # Get training data\n",
    "train_loader = dm.train_dataloader()\n",
    "\n",
    "for i, batch in enumerate(train_loader):\n",
    "    break  # Just test the first batch\n",
    "\n",
    "#Assess peak memory\n",
    "current, peak = tracemalloc.get_traced_memory()\n",
    "tracemalloc.stop()\n",
    "peak = peak / 1024**2  # MB\n",
    "print(f\"peak memory: {peak:.2f} MB\")"
   ]
  },
  {
   "cell_type": "code",
   "execution_count": null,
   "id": "560a8408-f68d-40fa-bfd4-ea09546ec354",
   "metadata": {},
   "outputs": [],
   "source": []
  }
 ],
 "metadata": {
  "kernelspec": {
   "display_name": "Colab312",
   "language": "python",
   "name": "myenv"
  },
  "language_info": {
   "codemirror_mode": {
    "name": "ipython",
    "version": 3
   },
   "file_extension": ".py",
   "mimetype": "text/x-python",
   "name": "python",
   "nbconvert_exporter": "python",
   "pygments_lexer": "ipython3",
   "version": "3.12.11"
  }
 },
 "nbformat": 4,
 "nbformat_minor": 5
}
