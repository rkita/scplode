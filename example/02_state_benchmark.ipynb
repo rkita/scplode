{
 "cells": [
  {
   "cell_type": "code",
   "execution_count": 1,
   "id": "fd84de09-33f7-42e8-b134-0d4364a20383",
   "metadata": {},
   "outputs": [],
   "source": [
    "%load_ext autoreload\n",
    "%autoreload 2"
   ]
  },
  {
   "cell_type": "markdown",
   "id": "14bc14d8-c53f-47d3-b14f-d40554b7fd58",
   "metadata": {},
   "source": [
    "### State Data Loader Example\n",
    "\n",
    "Here, we implement scplode in Arc Institute's State Model Data Loader. \n",
    "The original Data Loader is located in the Arc Institute's cell-load repository. \n",
    "For demonstration purpospes, I have forked the cell-load code here: https://github.com/rkita/cell-load/tree/scplode-integration\n",
    "and made very minimal changes for scplode-integration. \n",
    "\n",
    "Important to note that the fork does not include scplode conversion. \n"
   ]
  },
  {
   "cell_type": "markdown",
   "id": "bbd2e9a4-8459-4543-ba92-4c0e426998e8",
   "metadata": {},
   "source": [
    "This is the primary change in the cell-load code (in addition to updating parameters and a `read_h5ad` line)\n",
    "\n",
    "```python\n",
    "if self.use_scplode:\n",
    "    #### SCPLODE DATA ACCESS\n",
    "    row_data = self.scadata.get([int(idx)])\n",
    "    data = torch.tensor(row_data, dtype=torch.float32)\n",
    "else:\n",
    "    #### ORIGINAL STATE CELL-LOAD CODE BELOW\n",
    "    attrs = dict(self.h5_file[\"X\"].attrs)\n",
    "    if attrs[\"encoding-type\"] == \"csr_matrix\":\n",
    "        indptr = self.h5_file[\"/X/indptr\"]\n",
    "        start_ptr = indptr[idx]\n",
    "        end_ptr = indptr[idx + 1]\n",
    "        sub_data = torch.tensor(\n",
    "            self.h5_file[\"/X/data\"][start_ptr:end_ptr], dtype=torch.float32\n",
    "        )\n",
    "        sub_indices = torch.tensor(\n",
    "            self.h5_file[\"/X/indices\"][start_ptr:end_ptr], dtype=torch.long\n",
    "        )\n",
    "        counts = torch.sparse_csr_tensor(\n",
    "            torch.tensor([0], dtype=torch.long),\n",
    "            sub_indices,\n",
    "            sub_data,\n",
    "            (1, self.n_genes),\n",
    "        )\n",
    "        data = counts.to_dense().squeeze()\n",
    "    else:\n",
    "        row_data = self.h5_file[\"/X\"][idx]\n",
    "        data = torch.tensor(row_data, dtype=torch.float32)\n",
    "```"
   ]
  },
  {
   "cell_type": "code",
   "execution_count": 1,
   "id": "56631ab3-d1ef-467c-93c6-751f7367051d",
   "metadata": {},
   "outputs": [],
   "source": [
    "#Install the forked cell-load\n",
    "#%pip install -q git+https://github.com/rkita/cell-load.git@scplode-integration"
   ]
  },
  {
   "cell_type": "code",
   "execution_count": 45,
   "id": "e692d2e0-51a4-4406-a318-e72f270f3786",
   "metadata": {},
   "outputs": [],
   "source": [
    "#Download Competition Support Set\n",
    "\"https://storage.googleapis.com/vcc_data_prod/datasets/state/competition_support_set.zip\"\n",
    "\n",
    "#Set the path in the toml below. "
   ]
  },
  {
   "cell_type": "code",
   "execution_count": 47,
   "id": "1cb4bfd9-5115-4f29-9e29-2ffbfac4672a",
   "metadata": {},
   "outputs": [],
   "source": [
    "#Make sure the version of PerturbationDataModule  is the right one\n",
    "from cell_load.data_modules import PerturbationDataModule\n",
    "\n",
    "import inspect\n",
    "sig = inspect.signature(PerturbationDataModule.__init__)\n",
    "assert 'use_scplode' in sig.parameters"
   ]
  },
  {
   "cell_type": "code",
   "execution_count": 48,
   "id": "dee12d9e-6ca3-4043-9122-4faea1fadaab",
   "metadata": {},
   "outputs": [],
   "source": [
    "import toml\n",
    "config = {\n",
    "    \"datasets\": {\n",
    "        \"h1\": \"/Volumes/T7/vcc_pp/data/raw/competition_support_set/competition_train.h5\"\n",
    "    },\n",
    "    \"training\": {\n",
    "        \"h1\": \"train\"\n",
    "    },\n",
    "    \"zeroshot\": {},\n",
    "    \"fewshot\": {}\n",
    "}\n",
    "\n",
    "with open(\"config.toml\", \"w\") as f:\n",
    "    toml.dump(config, f)"
   ]
  },
  {
   "cell_type": "code",
   "execution_count": 55,
   "id": "c35a504c-60ba-4351-b373-d83f10110505",
   "metadata": {},
   "outputs": [
    {
     "name": "stdout",
     "output_type": "stream",
     "text": [
      "X/data: compression = None\n",
      "X/indices: compression = None\n",
      "X/indptr: compression = None\n",
      "obs/_index: compression = None\n",
      "obs/batch/categories: compression = None\n",
      "obs/batch/codes: compression = None\n",
      "obs/batch_var/categories: compression = None\n",
      "obs/batch_var/codes: compression = None\n",
      "obs/cell_type/categories: compression = None\n",
      "obs/cell_type/codes: compression = None\n",
      "obs/guide_id/categories: compression = None\n",
      "obs/guide_id/codes: compression = None\n",
      "obs/target_gene/categories: compression = None\n",
      "obs/target_gene/codes: compression = None\n",
      "var/_index: compression = None\n"
     ]
    }
   ],
   "source": [
    "#Check whether the h5 file is compressed or not. \n",
    "\n",
    "import h5py\n",
    "\n",
    "with h5py.File(\"/Volumes/T7/vcc_pp/data/raw/competition_support_set/competition_train.h5\", \"r\") as f:\n",
    "    def print_compression(name, obj):\n",
    "        if isinstance(obj, h5py.Dataset):\n",
    "            print(f\"{name}: compression = {obj.compression}\")\n",
    "\n",
    "    f.visititems(print_compression)"
   ]
  },
  {
   "cell_type": "code",
   "execution_count": 49,
   "id": "cb634b6f-2437-4f2c-8cf4-9c276dfdeaaa",
   "metadata": {},
   "outputs": [
    {
     "name": "stderr",
     "output_type": "stream",
     "text": [
      "[INFO] Loading index: obs\n",
      "[INFO] Loading index: var\n",
      "[INFO] Loading index: dat (implicitly)\n"
     ]
    },
    {
     "data": {
      "text/plain": [
       "View of AnnData object with n_obs × n_vars = 10 × 18080\n",
       "    obs: 'target_gene', 'guide_id', 'batch', 'batch_var', 'cell_type'"
      ]
     },
     "execution_count": 49,
     "metadata": {},
     "output_type": "execute_result"
    }
   ],
   "source": [
    "#Create the mmaps upfront.\n",
    "import scplode as sp\n",
    "sdata = sp.read_h5ad(\"/Volumes/T7/vcc_pp/data/raw/competition_support_set/competition_train.h5\")\n",
    "sdata[0:10]"
   ]
  },
  {
   "cell_type": "code",
   "execution_count": 50,
   "id": "ebe66188-8748-4c37-8050-9e3d13ac425a",
   "metadata": {},
   "outputs": [
    {
     "name": "stdout",
     "output_type": "stream",
     "text": [
      "/Volumes/T7/vcc_pp/data/raw/competition_support_set/competition_train.h5\n"
     ]
    },
    {
     "name": "stderr",
     "output_type": "stream",
     "text": [
      "Processing h1:   0%|                                                                                         | 0/1 [00:00<?, ?it/s][INFO] Loading index: obs\n",
      "[INFO] Loading index: var\n",
      "[INFO] Loading index: dat (implicitly)\n",
      "Processing h1: 100%|█████████████████████████████████████████████████████████████████████████████████| 1/1 [00:00<00:00,  1.81it/s]\n"
     ]
    },
    {
     "name": "stdout",
     "output_type": "stream",
     "text": [
      "Processed competition_train: 221273 train, 0 val, 0 test\n",
      "peak memory: 139.50 MB\n",
      "CPU times: user 13.4 s, sys: 586 ms, total: 13.9 s\n",
      "Wall time: 34.8 s\n"
     ]
    }
   ],
   "source": [
    "%%time\n",
    "\n",
    "import tracemalloc\n",
    "\n",
    "tracemalloc.start()\n",
    "\n",
    "dm = PerturbationDataModule(\n",
    "    toml_config_path=\"config.toml\",\n",
    "    embed_key=None,\n",
    "    num_workers=4,\n",
    "    batch_col=\"batch\",\n",
    "    cell_sentence_len=16,\n",
    "    pert_col=\"target_gene\",\n",
    "    cell_type_key=\"cell_type\",\n",
    "    control_pert=\"non-targeting\",\n",
    "    use_scplode = True,\n",
    "    output_space = \"all\"\n",
    ")\n",
    "dm.setup()\n",
    "\n",
    "# # Get training data\n",
    "train_loader = dm.train_dataloader()\n",
    "\n",
    "for i, batch in enumerate(train_loader):\n",
    "    break  # Just test the first batch\n",
    "\n",
    "#Assess peak memory\n",
    "current, peak = tracemalloc.get_traced_memory()\n",
    "tracemalloc.stop()\n",
    "peak = peak / 1024**2  # MB\n",
    "print(f\"peak memory: {peak:.2f} MB\")"
   ]
  },
  {
   "cell_type": "code",
   "execution_count": 51,
   "id": "be37b08b-dc40-4cf4-b96b-8cb43b079822",
   "metadata": {},
   "outputs": [
    {
     "name": "stdout",
     "output_type": "stream",
     "text": [
      "/Volumes/T7/vcc_pp/data/raw/competition_support_set/competition_train.h5\n"
     ]
    },
    {
     "name": "stderr",
     "output_type": "stream",
     "text": [
      "Processing h1: 100%|█████████████████████████████████████████████████████████████████████████████████| 1/1 [00:00<00:00,  2.74it/s]\n"
     ]
    },
    {
     "name": "stdout",
     "output_type": "stream",
     "text": [
      "Processed competition_train: 221273 train, 0 val, 0 test\n",
      "peak memory: 114.58 MB\n",
      "CPU times: user 13 s, sys: 502 ms, total: 13.5 s\n",
      "Wall time: 57.3 s\n"
     ]
    }
   ],
   "source": [
    "%%time\n",
    "\n",
    "import tracemalloc\n",
    "\n",
    "tracemalloc.start()\n",
    "\n",
    "dm = PerturbationDataModule(\n",
    "    toml_config_path=\"config.toml\",\n",
    "    embed_key=None,\n",
    "    num_workers=4,\n",
    "    batch_col=\"batch\",\n",
    "    cell_sentence_len=16,\n",
    "    pert_col=\"target_gene\",\n",
    "    cell_type_key=\"cell_type\",\n",
    "    control_pert=\"non-targeting\",\n",
    "    use_scplode = False,\n",
    "    output_space = \"all\"\n",
    ")\n",
    "dm.setup()\n",
    "\n",
    "# # Get training data\n",
    "train_loader = dm.train_dataloader()\n",
    "\n",
    "for i, batch in enumerate(train_loader):\n",
    "    break  # Just test the first batch\n",
    "\n",
    "#Assess peak memory\n",
    "current, peak = tracemalloc.get_traced_memory()\n",
    "tracemalloc.stop()\n",
    "peak = peak / 1024**2  # MB\n",
    "print(f\"peak memory: {peak:.2f} MB\")"
   ]
  },
  {
   "cell_type": "markdown",
   "id": "a850edbe-6685-435d-b098-3e4d468f849f",
   "metadata": {},
   "source": [
    "### Conclusion\n",
    "\n",
    "In this example, using scplode sped up from 57.3 seconds to 34.8 seconds.\n",
    "Further work needed to evaluate across other contexts. Important variables include, the size/compression of original data the "
   ]
  },
  {
   "cell_type": "code",
   "execution_count": null,
   "id": "7a490660-dc82-4505-928f-da1b987a37ae",
   "metadata": {},
   "outputs": [],
   "source": []
  }
 ],
 "metadata": {
  "kernelspec": {
   "display_name": "Colab312",
   "language": "python",
   "name": "myenv"
  },
  "language_info": {
   "codemirror_mode": {
    "name": "ipython",
    "version": 3
   },
   "file_extension": ".py",
   "mimetype": "text/x-python",
   "name": "python",
   "nbconvert_exporter": "python",
   "pygments_lexer": "ipython3",
   "version": "3.12.11"
  }
 },
 "nbformat": 4,
 "nbformat_minor": 5
}
